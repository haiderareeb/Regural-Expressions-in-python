{
 "cells": [
  {
   "cell_type": "markdown",
   "metadata": {},
   "source": [
    "# Strong Password Detection\n",
    "\n",
    "> Program doings:\n",
    "* take password text\n",
    "* check the password is strong or not\n",
    "* result the output\n",
    "\n",
    "> Implementation:\n",
    "* create a regex to match a strong password template (8-char long and atleast with one digit and one special char etc.)\n",
    "* match it with the password and check if it's strong or not.\n",
    "* output the result. "
   ]
  },
  {
   "cell_type": "code",
   "execution_count": 1,
   "metadata": {},
   "outputs": [],
   "source": [
    "import re"
   ]
  },
  {
   "cell_type": "code",
   "execution_count": 62,
   "metadata": {},
   "outputs": [],
   "source": [
    "PaswdRegex = re.compile(r'''\n",
    "    ^                           # Start of the string\n",
    "    (?=.*[@#\\$\\-\\!\\:\\;\\,&\\^%])  # At least one special character (Escaped correctly)\n",
    "    (?=.*[A-Z])                 # At least one uppercase letter\n",
    "    (?=.*[a-z])                 # At least one lowercase letter (ensures mix of cases)\n",
    "    (?=.*\\d)                    # At least one digit\n",
    "    [a-zA-Z0-9@#\\$\\-\\!\\:\\;\\,&\\^%]{8,}  # At least 8 valid characters\n",
    "    $                           # End of the string\n",
    "''', re.VERBOSE)"
   ]
  },
  {
   "cell_type": "code",
   "execution_count": 63,
   "metadata": {},
   "outputs": [
    {
     "name": "stdout",
     "output_type": "stream",
     "text": [
      "'Hello123' is a Weak Password\n",
      "'1234' is a Weak Password\n",
      "'xYz@#340' is a Strong Password\n",
      "'Hello@#$1' is a Strong Password\n"
     ]
    }
   ],
   "source": [
    "test_set = [\"Hello123\", \"1234\", \"xYz@#340\", \"Hello@#$1\"]\n",
    "\n",
    "for i in test_set:\n",
    "    result = PaswdRegex.search(i)\n",
    "    if result != None:\n",
    "        print(f\"'{i}' is a Strong Password\")\n",
    "    else:\n",
    "        print(f\"'{i}' is a Weak Password\")"
   ]
  }
 ],
 "metadata": {
  "kernelspec": {
   "display_name": "Python 3",
   "language": "python",
   "name": "python3"
  },
  "language_info": {
   "codemirror_mode": {
    "name": "ipython",
    "version": 3
   },
   "file_extension": ".py",
   "mimetype": "text/x-python",
   "name": "python",
   "nbconvert_exporter": "python",
   "pygments_lexer": "ipython3",
   "version": "3.11.9"
  }
 },
 "nbformat": 4,
 "nbformat_minor": 2
}
