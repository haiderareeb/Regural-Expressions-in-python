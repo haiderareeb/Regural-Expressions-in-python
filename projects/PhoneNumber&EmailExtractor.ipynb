{
 "cells": [
  {
   "cell_type": "markdown",
   "metadata": {},
   "source": [
    "# Project: Phone Number and Email Address Extractor"
   ]
  },
  {
   "cell_type": "markdown",
   "metadata": {},
   "source": [
    ">Program doings:\n",
    "\n",
    "1. Get the text off the clipboard\n",
    "2. Find all phone numbers and email addresses in the text\n",
    "3. Paste them onto the clipboard\n",
    "\n",
    "> Program Implementation:\n",
    "\n",
    "1. Use piperclip module to copy and paste strings.\n",
    "2. create two regexes, one for phone numbers and another for email addresses.\n",
    "3. Find all matches, not just the first match, of both regexes.\n",
    "4. Neatly format the matched strings into a single string to paste.\n",
    "5. Display some kind of message if no matches were found in the text.\n"
   ]
  },
  {
   "cell_type": "code",
   "execution_count": 2,
   "metadata": {},
   "outputs": [],
   "source": [
    "import pyperclip, re"
   ]
  },
  {
   "cell_type": "code",
   "execution_count": 3,
   "metadata": {},
   "outputs": [],
   "source": [
    "phoneRegex = re.compile(r'''(\n",
    "    (\\d{3}|\\(\\d{3}\\))? #area code\n",
    "    (\\s|-|\\.)? # seperator\n",
    "    (\\d{3}) # first 3 digits\n",
    "    (\\s|-|\\.) # seperator\n",
    "    (\\d{4}) # last 4 digits\n",
    "    (\\s*(ext|x|ext.)\\s*(\\d{2,5}))? # extension\n",
    "                        )''',re.VERBOSE)"
   ]
  },
  {
   "cell_type": "code",
   "execution_count": 5,
   "metadata": {},
   "outputs": [],
   "source": [
    "emailRegex = re.compile(r'''(\n",
    "    [a-zA-Z0-9._%+-]+ # username\n",
    "    @ # @ symbol \n",
    "    [a-zA-Z-0-9.-]+    # domain name\n",
    "    (\\.[a-zA-Z]{2,4}) # dot-something\n",
    "                        )''',re.VERBOSE)"
   ]
  },
  {
   "cell_type": "code",
   "execution_count": 11,
   "metadata": {},
   "outputs": [],
   "source": [
    "# find matches in clipboard text.\n",
    "text = str(pyperclip.paste())\n",
    "\n",
    "matches = []\n",
    "for groups in phoneRegex.findall(text):\n",
    "    phoneNum = '-'.join([groups[1], groups[3], groups[5]])\n",
    "    if groups[8] != '':\n",
    "        phoneNum += ' x' + groups[8]\n",
    "    matches.append(phoneNum)\n",
    "\n",
    "for groups in emailRegex.findall(text):\n",
    "    matches.append(groups[0])"
   ]
  },
  {
   "cell_type": "code",
   "execution_count": 12,
   "metadata": {},
   "outputs": [
    {
     "name": "stdout",
     "output_type": "stream",
     "text": [
      "Copied to clipboard:\n",
      "(888)-280-4331\n",
      "(877)-375-9365\n",
      "(206)-922-0197\n",
      "(833)-674-7268\n",
      "888-280-4331\n",
      "206-922-0880\n",
      "206-266-4064\n",
      "866-216-1075\n",
      "888-280-4331\n",
      "866-216-1072\n",
      "800-388-5512\n",
      "-226-2021\n",
      "-108-1226\n",
      "-108-1226\n"
     ]
    }
   ],
   "source": [
    "# copy results to the clipboard\n",
    "if len(matches) > 0:\n",
    "    pyperclip.copy('\\n'.join(matches))\n",
    "    print('Copied to clipboard:')\n",
    "    print('\\n'.join(matches))\n",
    "else:\n",
    "    print(\"No phone numbers or email addresses found.\")"
   ]
  }
 ],
 "metadata": {
  "kernelspec": {
   "display_name": "Python 3",
   "language": "python",
   "name": "python3"
  },
  "language_info": {
   "codemirror_mode": {
    "name": "ipython",
    "version": 3
   },
   "file_extension": ".py",
   "mimetype": "text/x-python",
   "name": "python",
   "nbconvert_exporter": "python",
   "pygments_lexer": "ipython3",
   "version": "3.11.9"
  }
 },
 "nbformat": 4,
 "nbformat_minor": 2
}
