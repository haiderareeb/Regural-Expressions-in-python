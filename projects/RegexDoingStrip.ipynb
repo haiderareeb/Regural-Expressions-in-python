{
 "cells": [
  {
   "cell_type": "markdown",
   "metadata": {},
   "source": [
    "# Regex Version of the strip() Method\n",
    "\n",
    "* The strip() method in Python removes leading (beginning) and trailing (end) whitespace (including spaces, tabs, and newline characters) from a string.\n",
    "\n",
    "* If no argument is passed, it removes whitespace from both ends.\n",
    "\n",
    "* If specific characters are passed as an argument, it removes only those characters from both ends.\n",
    "\n",
    "> program doings:\n",
    "* take text input\n",
    "* create a function with regex to do strip method work. the function will take one optional argument just like strip().\n",
    "* create a regex which splits the text into groups according to split chars (space if not mentioned).\n",
    "* join the groups without split chars at both end sides.\n",
    "and output it."
   ]
  },
  {
   "cell_type": "code",
   "execution_count": 1,
   "metadata": {},
   "outputs": [],
   "source": [
    "import re"
   ]
  },
  {
   "cell_type": "code",
   "execution_count": 32,
   "metadata": {},
   "outputs": [],
   "source": [
    "def strip(text,chars = \" \"):\n",
    "\n",
    "    Regex = re.compile(rf'''\n",
    "    ^[{re.escape(chars)}]+\n",
    "    (.*?)\n",
    "    [{re.escape(chars)}]+$\n",
    "    ''',re.DOTALL | re.VERBOSE)\n",
    "\n",
    "    result = Regex.search(text)\n",
    "    return result.group(1)\n",
    "        "
   ]
  },
  {
   "cell_type": "code",
   "execution_count": 33,
   "metadata": {},
   "outputs": [
    {
     "data": {
      "text/plain": [
       "' Hello my name is Areeb.'"
      ]
     },
     "execution_count": 33,
     "metadata": {},
     "output_type": "execute_result"
    }
   ],
   "source": [
    "str = \"xyz Hello my name is Areeb.xyzxyz\"\n",
    "a = strip(str,\"xyz\")\n",
    "a"
   ]
  }
 ],
 "metadata": {
  "kernelspec": {
   "display_name": "Python 3",
   "language": "python",
   "name": "python3"
  },
  "language_info": {
   "codemirror_mode": {
    "name": "ipython",
    "version": 3
   },
   "file_extension": ".py",
   "mimetype": "text/x-python",
   "name": "python",
   "nbconvert_exporter": "python",
   "pygments_lexer": "ipython3",
   "version": "3.11.9"
  }
 },
 "nbformat": 4,
 "nbformat_minor": 2
}
