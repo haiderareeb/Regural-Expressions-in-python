{
 "cells": [
  {
   "cell_type": "markdown",
   "metadata": {},
   "source": [
    "# Date Detection: valid date or not\n",
    "\n",
    "> programs doings:\n",
    "* take text.\n",
    "* extract date formats from the text.\n",
    "* detect of the dates are valid or not\n",
    "* output the dates format with result(valid or not)\n",
    "\n",
    "> Implementation:\n",
    "* take text as input\n",
    "* create regex pattern for matching date formats\n",
    "* check the date formats for validation\n",
    "* output the results for each date format."
   ]
  },
  {
   "cell_type": "code",
   "execution_count": 1,
   "metadata": {},
   "outputs": [],
   "source": [
    "import re"
   ]
  },
  {
   "cell_type": "code",
   "execution_count": 55,
   "metadata": {},
   "outputs": [],
   "source": [
    "DateRegex = re.compile(r'''(\n",
    "    (0[1-9]|[12][0-9]|3[01]) # day\n",
    "    [/\\-.:] # seperators\n",
    "    (0[1-9]|1[0-2]) # month\n",
    "    [/\\-.:] # seperators\n",
    "    (1\\d{3}|2\\d{3}) # year         \n",
    "                       )''',re.VERBOSE)"
   ]
  },
  {
   "cell_type": "code",
   "execution_count": 52,
   "metadata": {},
   "outputs": [
    {
     "data": {
      "text/plain": [
       "'03/12/2455'"
      ]
     },
     "execution_count": 52,
     "metadata": {},
     "output_type": "execute_result"
    }
   ],
   "source": [
    "date = DateRegex.search(\"03/12/2455\")\n",
    "date.group(1)"
   ]
  },
  {
   "cell_type": "code",
   "execution_count": 68,
   "metadata": {},
   "outputs": [
    {
     "data": {
      "text/plain": [
       "-1"
      ]
     },
     "execution_count": 68,
     "metadata": {},
     "output_type": "execute_result"
    }
   ],
   "source": [
    "def is_leap_year(year):\n",
    "    return year % 4 == 0 and (year % 100 != 0 or year % 400 == 0)\n",
    "\n",
    "def specialFebValidation(day,month,year):\n",
    "    if month != 2:\n",
    "        return 1\n",
    "    if(day <= 28):\n",
    "        return 1\n",
    "    if day == 29 and is_leap_year(year):\n",
    "        return 1 \n",
    "    return -1\n",
    "    \n",
    "a = DateRegex.search(\"29-02-2029\")\n",
    "result = specialFebValidation(int(a.group(2)),int(a.group(3)),int(a.group(4)))\n",
    "result\n"
   ]
  },
  {
   "cell_type": "code",
   "execution_count": 69,
   "metadata": {},
   "outputs": [
    {
     "name": "stdout",
     "output_type": "stream",
     "text": [
      "12-05-2024 is valid.\n",
      "31.12.1999 is valid.\n",
      "01/01/2023 is valid.\n",
      "30:06:1500 is valid.\n",
      "32-13-2020 is invalid.\n",
      "29-02-2028 is valid.\n",
      "29-02-2029 is invalid.\n"
     ]
    }
   ],
   "source": [
    "test_dates = [\"12-05-2024\", \"31.12.1999\", \"01/01/2023\", \"30:06:1500\", \"32-13-2020\", \"29-02-2028\", \"29-02-2029\"]\n",
    "\n",
    "for i in test_dates:\n",
    "    date = DateRegex.search(i)\n",
    "    if date != None :\n",
    "        result = specialFebValidation(int(date.group(2)),int(date.group(3)),int(date.group(4)))\n",
    "        if result == 1:\n",
    "            print(i + \" is valid.\")\n",
    "        else:\n",
    "            print(i + \" is invalid.\")\n",
    "\n",
    "    else:\n",
    "        print(i + \" is invalid.\")\n"
   ]
  }
 ],
 "metadata": {
  "kernelspec": {
   "display_name": "Python 3",
   "language": "python",
   "name": "python3"
  },
  "language_info": {
   "codemirror_mode": {
    "name": "ipython",
    "version": 3
   },
   "file_extension": ".py",
   "mimetype": "text/x-python",
   "name": "python",
   "nbconvert_exporter": "python",
   "pygments_lexer": "ipython3",
   "version": "3.11.9"
  }
 },
 "nbformat": 4,
 "nbformat_minor": 2
}
